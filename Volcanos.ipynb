{
 "cells": [
  {
   "cell_type": "markdown",
   "metadata": {},
   "source": [
    "Code for this post can be found [here](https://github.com/pvonglehn/data-science-concepts/Volcanos.ipynb)  \n",
    "\n",
    "Poisson processes are used to model the occurences of events over time which occur independently of each other and with a constant rate. For example radioactive decay, emission of photons from a weak source and telephone calls to a customer service center can all be modelled as Poisson processes. \n",
    "\n",
    "Poisson process models can be used to estimate useful properties of these systems. For example in planning how many customer service employees to hire it is important to know not just the average number of calls in a day, but also the probability of receiving more X calls in a day so keep the probability of being overwhelmed on any given day acceptably low.   \n",
    "\n",
    "It has already been established in the volcanology literature that volcanic eruptions can be well modelled as Poisson processes [[1]](https://www.ncbi.nlm.nih.gov/pmc/articles/PMC5931572/) and that's what we'll do in this notebook.\n",
    "\n",
    "[1]:Papale P. Global time-size distribution of volcanic eruptions on Earth. Sci Rep. 2018;8(1):6838. Published 2018 May 1. doi:10.1038/s41598-018-25286-y\n",
    "\n",
    "\n",
    "## Poisson process equations\n",
    "\n",
    "A Poisson process is a single parameter model. This parameter is the arrival rate $\\lambda$ and is equal to the mean number of occurences (known as arrivals) per unit of time.\n",
    "\n",
    "\n",
    "### Interarrival time\n",
    "The interarrival time is the time between successive occurrences. The probability density function (PDF) for this is an exponential distribution with parameter lambda, given by the formula below.\n",
    "\n",
    "$$f_{Y}(y) = \\lambda e^{-\\lambda y}$$\n",
    "\n",
    "\n",
    "\n",
    "### Number of occurences per unit time\n",
    "\n",
    "The PDF for the number of occurences per unit time (k) is given below.\n",
    "\n",
    "$$P_K(k) = \\frac{\\lambda^k e^{-\\lambda}}{k!}$$\n",
    "\n",
    "\n",
    "\n",
    "\n"
   ]
  },
  {
   "cell_type": "markdown",
   "metadata": {},
   "source": [
    "# Getting the data\n",
    "\n",
    "The data for this study was downloaded from the Smithsonian Institution National Museum of Natural History Global Volcanism Program [database](https://volcano.si.edu/). The data is downloadable in the form of an excel spreadsheet from their website. You can download the reduced data set from my github repo [here]()\n",
    "\n",
    "Here I have included all confirmed volcanic eruptions between 1950 and 2019 and am treating the start date as the date of occurence.\n"
   ]
  },
  {
   "cell_type": "code",
   "execution_count": 79,
   "metadata": {},
   "outputs": [],
   "source": [
    "%matplotlib inline\n",
    "import matplotlib.pyplot as plt\n",
    "import pandas as pd\n",
    "import pathlib\n",
    "import numpy as np\n",
    "\n",
    "def load_format_data(file):\n",
    "    '''read data into dataframe clean and format'''\n",
    "    \n",
    "    df = pd.read_excel(file,skiprows=[0],sheet_name=\"Eruption List\")\n",
    "\n",
    "    # Drop rows without years\n",
    "    df = df.dropna(subset=['Start Year','Start Month','Start Day'])\n",
    "\n",
    "    # Select only between 1950 and 2020 (before 1950 not all eruptions have start and months)\n",
    "    df = df.loc[(df[\"Start Year\"] > 1950)\n",
    "               & (df[\"Start Year\"] < 2020)\n",
    "               ]\n",
    "\n",
    "    # Select only confirmed eruptions\n",
    "    df = df.loc[df[\"Eruption Category\"] == \"Confirmed Eruption\"]\n",
    "\n",
    "    # Convert dates to datetime object\n",
    "    df[\"dt\"] = pd.to_datetime(df[['Start Year','Start Month','Start Day']]\n",
    "                               .astype(int)\n",
    "                               .astype(str)\n",
    "                               .agg('-'.join, axis=1)\n",
    "                                  )\n",
    "    \n",
    "    # Sort in ascending order\n",
    "    df = df.sort_values(\"dt\") \n",
    "    df = df.reset_index()\n",
    "    \n",
    "    columns = [\"Eruption Number\",\"dt\"]\n",
    "    \n",
    "    return df[columns]"
   ]
  },
  {
   "cell_type": "code",
   "execution_count": 80,
   "metadata": {},
   "outputs": [],
   "source": [
    "file = pathlib.Path().joinpath(\"data\",\"GVP_Eruption_Results_all.xlsx\")\n",
    "\n",
    "df = load_format_data(file)\n",
    "\n",
    "save_file = pathlib.Path().joinpath(\"data\",\"volcanos.csv\")\n",
    "df.to_csv(save_file)"
   ]
  },
  {
   "cell_type": "code",
   "execution_count": 59,
   "metadata": {},
   "outputs": [],
   "source": [
    "from statsmodels.graphics.tsaplots import plot_acf\n",
    "\n",
    "def get_interarrival_times(df):\n",
    "    '''get times between eruptions (in days)'''\n",
    "    \n",
    "    Y = (df.iloc[1:]\n",
    "           .apply(lambda row: row[\"dt\"] - df.iloc[row.name - 1][\"dt\"],axis=1)\n",
    "           .dt.days\n",
    "           .values\n",
    "        )\n",
    "\n",
    "    return Y\n",
    "\n",
    "def plot_autocorrelation(Y):\n",
    "    '''plot autocorrelation of arrival times'''\n",
    "    \n",
    "    fig, ax = plt.subplots(figsize=(8,5))\n",
    "    _ = plot_acf(np.array(Y),ax=ax)\n",
    "    ax.set_title(\"autocorrelation of arrival times\",fontsize=16)\n",
    "    ax.set_xlabel(\"lag (days)\",fontsize=12)\n",
    "    ax.set_ylabel(\"correlation coefficient\",fontsize=12)\n",
    "    "
   ]
  },
  {
   "cell_type": "code",
   "execution_count": 61,
   "metadata": {},
   "outputs": [
    {
     "data": {
      "image/png": "[encoded data removed]",
      "text/plain": [
       "<Figure size 576x360 with 1 Axes>"
      ]
     },
     "metadata": {
      "needs_background": "light"
     },
     "output_type": "display_data"
    }
   ],
   "source": [
    "Y = get_interarrival_times(df)\n",
    "\n",
    "plot_autocorrelation(Y)\n"
   ]
  },
  {
   "cell_type": "code",
   "execution_count": null,
   "metadata": {},
   "outputs": [],
   "source": []
  },
  {
   "cell_type": "code",
   "execution_count": 70,
   "metadata": {},
   "outputs": [
    {
     "data": {
      "image/png": "[encoded data removed]",
      "text/plain": [
       "<Figure size 432x288 with 1 Axes>"
      ]
     },
     "metadata": {
      "needs_background": "light"
     },
     "output_type": "display_data"
    }
   ],
   "source": [
    "def expon(lambda_,x):\n",
    "    '''pdf of exponential random variable'''\n",
    "    \n",
    "    return lambda_*np.exp(-lambda_*x)\n",
    "\n",
    "expon = np.vectorize(expon)\n",
    "\n",
    "fix,ax = plt.subplots()\n",
    "x = np.arange(0,200)\n",
    "y = expon(l,x)\n",
    "ax.plot(x,y)\n",
    "_ = ax.hist(Y,density=True,bins=40)"
   ]
  },
  {
   "cell_type": "code",
   "execution_count": null,
   "metadata": {},
   "outputs": [],
   "source": []
  },
  {
   "cell_type": "code",
   "execution_count": 78,
   "metadata": {},
   "outputs": [
    {
     "data": {
      "text/plain": [
       "[<matplotlib.lines.Line2D at 0x17138487ec8>]"
      ]
     },
     "execution_count": 78,
     "metadata": {},
     "output_type": "execute_result"
    },
    {
     "data": {
      "image/png": "[encoded data removed]",
      "text/plain": [
       "<Figure size 432x288 with 1 Axes>"
      ]
     },
     "metadata": {
      "needs_background": "light"
     },
     "output_type": "display_data"
    }
   ],
   "source": [
    "counts = df.groupby([\"Start Year\"])[\"Eruption Number\"].count().values\n",
    "max_counts = max(counts)\n",
    "min_counts = min(counts)\n",
    "x = np.arange(min_counts,max_counts)\n",
    "df.groupby([\"Start Year\"])[\"Eruption Number\"].count().hist(bins=max_counts-min_counts,density=True)\n",
    "plt.plot(x,poisson(34.768).pmf(x))"
   ]
  },
  {
   "cell_type": "code",
   "execution_count": 81,
   "metadata": {},
   "outputs": [
    {
     "data": {
      "text/plain": [
       "[<matplotlib.lines.Line2D at 0x1713cfb1788>]"
      ]
     },
     "execution_count": 81,
     "metadata": {},
     "output_type": "execute_result"
    },
    {
     "data": {
      "image/png": "[encoded data removed]",
      "text/plain": [
       "<Figure size 432x288 with 1 Axes>"
      ]
     },
     "metadata": {
      "needs_background": "light"
     },
     "output_type": "display_data"
    }
   ],
   "source": [
    "from scipy.stats import poisson\n",
    "x = np.arange(min_counts,max_counts)\n",
    "df.groupby([\"Start Year\"])[\"Eruption Number\"].count().hist(bins=(max_counts-min_counts)//3,density=True,grid=False)\n",
    "plt.plot(x,poisson(34.768).pmf(x))"
   ]
  },
  {
   "cell_type": "code",
   "execution_count": 5,
   "metadata": {},
   "outputs": [
    {
     "name": "stdout",
     "output_type": "stream",
     "text": [
      "Optimization terminated successfully.\n",
      "         Current function value: 3.102243\n",
      "         Iterations 1\n"
     ]
    },
    {
     "data": {
      "text/html": [
       "<table class=\"simpletable\">\n",
       "<caption>Poisson Regression Results</caption>\n",
       "<tr>\n",
       "  <th>Dep. Variable:</th>           <td>y</td>        <th>  No. Observations:  </th>  <td>    69</td> \n",
       "</tr>\n",
       "<tr>\n",
       "  <th>Model:</th>                <td>Poisson</td>     <th>  Df Residuals:      </th>  <td>    68</td> \n",
       "</tr>\n",
       "<tr>\n",
       "  <th>Method:</th>                 <td>MLE</td>       <th>  Df Model:          </th>  <td>     0</td> \n",
       "</tr>\n",
       "<tr>\n",
       "  <th>Date:</th>            <td>Wed, 20 May 2020</td> <th>  Pseudo R-squ.:     </th>  <td> 0.000</td> \n",
       "</tr>\n",
       "<tr>\n",
       "  <th>Time:</th>                <td>09:55:21</td>     <th>  Log-Likelihood:    </th> <td> -214.05</td>\n",
       "</tr>\n",
       "<tr>\n",
       "  <th>converged:</th>             <td>True</td>       <th>  LL-Null:           </th> <td> -214.05</td>\n",
       "</tr>\n",
       "<tr>\n",
       "  <th>Covariance Type:</th>     <td>nonrobust</td>    <th>  LLR p-value:       </th>  <td>   nan</td> \n",
       "</tr>\n",
       "</table>\n",
       "<table class=\"simpletable\">\n",
       "<tr>\n",
       "    <td></td>       <th>coef</th>     <th>std err</th>      <th>z</th>      <th>P>|z|</th>  <th>[0.025</th>    <th>0.975]</th>  \n",
       "</tr>\n",
       "<tr>\n",
       "  <th>const</th> <td>    3.5487</td> <td>    0.020</td> <td>  173.814</td> <td> 0.000</td> <td>    3.509</td> <td>    3.589</td>\n",
       "</tr>\n",
       "</table>"
      ],
      "text/plain": [
       "<class 'statsmodels.iolib.summary.Summary'>\n",
       "\"\"\"\n",
       "                          Poisson Regression Results                          \n",
       "==============================================================================\n",
       "Dep. Variable:                      y   No. Observations:                   69\n",
       "Model:                        Poisson   Df Residuals:                       68\n",
       "Method:                           MLE   Df Model:                            0\n",
       "Date:                Wed, 20 May 2020   Pseudo R-squ.:                   0.000\n",
       "Time:                        09:55:21   Log-Likelihood:                -214.05\n",
       "converged:                       True   LL-Null:                       -214.05\n",
       "Covariance Type:            nonrobust   LLR p-value:                       nan\n",
       "==============================================================================\n",
       "                 coef    std err          z      P>|z|      [0.025      0.975]\n",
       "------------------------------------------------------------------------------\n",
       "const          3.5487      0.020    173.814      0.000       3.509       3.589\n",
       "==============================================================================\n",
       "\"\"\""
      ]
     },
     "execution_count": 5,
     "metadata": {},
     "output_type": "execute_result"
    }
   ],
   "source": [
    "from statsmodels.discrete.discrete_model import Poisson \n",
    "import statsmodels.api as sm\n",
    "\n",
    "model = Poisson(endog=counts,exog=np.expand_dims(np.ones_like(counts),axis=1))\n",
    "res = model.fit(maxiter=100)\n",
    "res.summary()"
   ]
  },
  {
   "cell_type": "code",
   "execution_count": 153,
   "metadata": {},
   "outputs": [
    {
     "data": {
      "text/plain": [
       "34.768089579378085"
      ]
     },
     "execution_count": 153,
     "metadata": {},
     "output_type": "execute_result"
    }
   ],
   "source": [
    "np.exp(3.5487)"
   ]
  },
  {
   "cell_type": "code",
   "execution_count": 104,
   "metadata": {},
   "outputs": [
    {
     "data": {
      "text/plain": [
       "array([1.00000000e+00, 4.01884058e+01, 1.61510796e+03, 6.49086141e+04,\n",
       "       2.60857372e+06])"
      ]
     },
     "execution_count": 104,
     "metadata": {},
     "output_type": "execute_result"
    }
   ],
   "source": [
    "res.predict([0,1,2,3,4])"
   ]
  },
  {
   "cell_type": "code",
   "execution_count": 7,
   "metadata": {},
   "outputs": [],
   "source": [
    "# max likelihood"
   ]
  },
  {
   "cell_type": "code",
   "execution_count": 59,
   "metadata": {},
   "outputs": [],
   "source": [
    "from scipy.stats import expon"
   ]
  },
  {
   "cell_type": "code",
   "execution_count": 69,
   "metadata": {},
   "outputs": [
    {
     "data": {
      "text/plain": [
       "0.9988347959622934"
      ]
     },
     "execution_count": 69,
     "metadata": {},
     "output_type": "execute_result"
    }
   ],
   "source": [
    "n = 10000\n",
    "ts = expon().rvs(n)\n",
    "n/ts.sum()"
   ]
  },
  {
   "cell_type": "code",
   "execution_count": 70,
   "metadata": {},
   "outputs": [],
   "source": [
    "def expon(l,x):\n",
    "    return l*np.exp(-l*x)"
   ]
  },
  {
   "cell_type": "markdown",
   "metadata": {},
   "source": [
    "# interarrival time"
   ]
  }
 ],
 "metadata": {
  "kernelspec": {
   "display_name": "Python 3",
   "language": "python",
   "name": "python3"
  },
  "language_info": {
   "codemirror_mode": {
    "name": "ipython",
    "version": 3
   },
   "file_extension": ".py",
   "mimetype": "text/x-python",
   "name": "python",
   "nbconvert_exporter": "python",
   "pygments_lexer": "ipython3",
   "version": "3.7.4"
  }
 },
 "nbformat": 4,
 "nbformat_minor": 2
}
